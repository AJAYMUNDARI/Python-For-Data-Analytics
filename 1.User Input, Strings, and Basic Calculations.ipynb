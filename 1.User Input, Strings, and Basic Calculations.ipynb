{
 "cells": [
  {
   "cell_type": "markdown",
   "id": "76019dc6",
   "metadata": {},
   "source": [
    "Note 1: when taking user input using input() you can pass prompt to the user example\n",
    "name=input(\"enter your name: \")\n",
    "\n",
    "Note 2: For assignments you might need to use some of the string methods that were not discussed in class. You can refer to below link for reference:\n"
   ]
  },
  {
   "cell_type": "markdown",
   "id": "96c73bec",
   "metadata": {},
   "source": [
    "### 1- write a program which takes 2 inputs from the user : weight(kg) and height(meter) and prints the BMI in the output.\n",
    "\n",
    "BMI = weight / (square of height)\n"
   ]
  },
  {
   "cell_type": "code",
   "execution_count": 1,
   "id": "562ba880",
   "metadata": {},
   "outputs": [
    {
     "name": "stdout",
     "output_type": "stream",
     "text": [
      "Enter Weight : 10\n",
      "Enter Height : 2\n",
      "5\n"
     ]
    }
   ],
   "source": [
    "w = int(input(\"Enter Weight : \"))\n",
    "h = int(input(\"Enter Height : \"))\n",
    "BMI = w//h\n",
    "print(BMI)"
   ]
  },
  {
   "cell_type": "markdown",
   "id": "3774ba60",
   "metadata": {},
   "source": [
    "### 2- write a program which takes the name of the user as input and replace all the occurence of character 'a' in the name to 'b' and print it."
   ]
  },
  {
   "cell_type": "code",
   "execution_count": 2,
   "id": "9c9af456",
   "metadata": {},
   "outputs": [
    {
     "name": "stdout",
     "output_type": "stream",
     "text": [
      "Enter a name: Data Analyst\n",
      "Dbtb Anblyst\n"
     ]
    }
   ],
   "source": [
    "n = input(\"Enter a name: \")\n",
    "new_name = n.replace('a','b')\n",
    "print(new_name)"
   ]
  },
  {
   "cell_type": "markdown",
   "id": "550a987e",
   "metadata": {},
   "source": [
    "### 3- write a program which takes 2 inputs from user as principle amount (int) and rate of annual interest (float) and print the expected total amount  after  2 years."
   ]
  },
  {
   "cell_type": "code",
   "execution_count": 3,
   "id": "f0a5f0cc",
   "metadata": {},
   "outputs": [
    {
     "name": "stdout",
     "output_type": "stream",
     "text": [
      "Enter the principal amount: 10000\n",
      "Enter the annual interest rate: 36\n",
      "Expected total amount after 2 years: 18495.999999999996\n"
     ]
    }
   ],
   "source": [
    "principal = int(input(\"Enter the principal amount: \"))\n",
    "interest_rate = float(input(\"Enter the annual interest rate: \"))\n",
    "\n",
    "total_amount = principal * (1 + (interest_rate / 100)) ** 2\n",
    "\n",
    "print(\"Expected total amount after 2 years:\", total_amount)\n"
   ]
  },
  {
   "cell_type": "markdown",
   "id": "c934a11a",
   "metadata": {},
   "source": [
    "### 4- write a program which takes city name from user input. irrespective of in which case user enters the city name, print the city name in camel case meaning first letter should be capital and rest in small.\n",
    "example : input : MYSORE ,  print - > Mysore "
   ]
  },
  {
   "cell_type": "code",
   "execution_count": 4,
   "id": "65b456a5",
   "metadata": {},
   "outputs": [
    {
     "name": "stdout",
     "output_type": "stream",
     "text": [
      "Enter City : hyDERabaD\n",
      "Hyderabad\n"
     ]
    }
   ],
   "source": [
    "city = input(\"Enter City : \")\n",
    "city  = city.capitalize()\n",
    "print(city)"
   ]
  },
  {
   "cell_type": "markdown",
   "id": "6827aadc",
   "metadata": {},
   "source": [
    "### 5- write a program which takes the name of the user as input and print the index of character 'a' in the string. if 'a' is not there then return -1."
   ]
  },
  {
   "cell_type": "code",
   "execution_count": 5,
   "id": "e359d2ea",
   "metadata": {},
   "outputs": [
    {
     "name": "stdout",
     "output_type": "stream",
     "text": [
      "Enter a name : Python Analyst\n",
      "Index of a :  9\n"
     ]
    }
   ],
   "source": [
    "##print(\"Find 'a' in Name\")\n",
    "name = input(\"Enter a name : \")\n",
    "print(\"Index of a : \",name.find('a'))"
   ]
  },
  {
   "cell_type": "markdown",
   "id": "a952c4ee",
   "metadata": {},
   "source": [
    "### 6-  Display the number of letters in the below string\n",
    "my_word = \"antidisestablishmentarianism\""
   ]
  },
  {
   "cell_type": "code",
   "execution_count": 6,
   "id": "0effc56e",
   "metadata": {},
   "outputs": [
    {
     "name": "stdout",
     "output_type": "stream",
     "text": [
      "No of Letter :  28\n"
     ]
    }
   ],
   "source": [
    "my_word = \"antidisestablishmentarianism\"\n",
    "print(\"No of Letter : \",len(my_word))"
   ]
  },
  {
   "cell_type": "markdown",
   "id": "286cf052",
   "metadata": {},
   "source": [
    "### 7- take 3 inputs from user : first name , last name and age . Display the information in below format\n",
    "first name : MOhit\n",
    "last name : sharma \n",
    "age : 32\n",
    "\n",
    "#### my name is Mohit Sharma and I am 32 years old.\n",
    "\n",
    "note that first letter of first name and last name both should be in capital letters and rest in small. \n"
   ]
  },
  {
   "cell_type": "code",
   "execution_count": 14,
   "id": "5ee585ef",
   "metadata": {},
   "outputs": [
    {
     "name": "stdout",
     "output_type": "stream",
     "text": [
      "Enter First Name : MS\n",
      "Enter Last Name : DHONI\n",
      "Enter Age : 46\n",
      "my name is  Ms Dhoni and I am  46  years old\n"
     ]
    }
   ],
   "source": [
    "f = input(\"Enter First Name : \")\n",
    "x = f.capitalize()\n",
    "l = input(\"Enter Last Name : \")\n",
    "y = l.capitalize()\n",
    "a = input(\"Enter Age : \")\n",
    "print(\"my name is \",x, y, \"and I am \",a, \" years old\")"
   ]
  },
  {
   "cell_type": "markdown",
   "id": "6536d900",
   "metadata": {},
   "source": [
    "### 8-take 3 inputs from user : first name , last name and company name. create the email alias for the user and display it.  Email alias is first 2 letters of first name , last 3 letters of last name and @company.com\n",
    "example \n",
    "first name : MOhit\n",
    "last name : sharma \n",
    "company : infosys\n",
    "\n",
    "Display : morma@infosys.com \n",
    "\n",
    "note full email id should -be in lower case\n"
   ]
  },
  {
   "cell_type": "code",
   "execution_count": 12,
   "id": "765fb56e",
   "metadata": {},
   "outputs": [
    {
     "name": "stdout",
     "output_type": "stream",
     "text": [
      "Enter First Name : MS\n",
      "Enter Last Name : DHONI\n",
      "Enter company : CSK\n",
      "Email-ID :  msoni@csk.com\n"
     ]
    }
   ],
   "source": [
    "f = input(\"Enter First Name : \")\n",
    "x = f[:2].lower()\n",
    "l = input(\"Enter Last Name : \")\n",
    "y = l[-3:].lower()\n",
    "c = input(\"Enter company : \")\n",
    "z = c.lower()\n",
    "email = x+y+\"@\"+z+\".com\"\n",
    "print(\"Email-ID : \",email)"
   ]
  }
 ],
 "metadata": {
  "kernelspec": {
   "display_name": "Python 3 (ipykernel)",
   "language": "python",
   "name": "python3"
  },
  "language_info": {
   "codemirror_mode": {
    "name": "ipython",
    "version": 3
   },
   "file_extension": ".py",
   "mimetype": "text/x-python",
   "name": "python",
   "nbconvert_exporter": "python",
   "pygments_lexer": "ipython3",
   "version": "3.10.6"
  }
 },
 "nbformat": 4,
 "nbformat_minor": 5
}
